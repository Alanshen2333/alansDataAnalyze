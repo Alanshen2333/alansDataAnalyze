{
 "cells": [
  {
   "cell_type": "markdown",
   "metadata": {},
   "source": [
    "# 朴素贝叶斯模型"
   ]
  },
  {
   "cell_type": "code",
   "execution_count": 3,
   "metadata": {},
   "outputs": [],
   "source": [
    "from sklearn.naive_bayes import GaussianNB"
   ]
  },
  {
   "cell_type": "code",
   "execution_count": 4,
   "metadata": {},
   "outputs": [
    {
     "name": "stdout",
     "output_type": "stream",
     "text": [
      "\u001b[31mInit signature:\u001b[39m GaussianNB(*, priors=\u001b[38;5;28;01mNone\u001b[39;00m, var_smoothing=\u001b[32m1e-09\u001b[39m)\n",
      "\u001b[31mDocstring:\u001b[39m     \n",
      "Gaussian Naive Bayes (GaussianNB).\n",
      "\n",
      "Can perform online updates to model parameters via :meth:`partial_fit`.\n",
      "For details on algorithm used to update feature means and variance online,\n",
      "see `Stanford CS tech report STAN-CS-79-773 by Chan, Golub, and LeVeque\n",
      "<http://i.stanford.edu/pub/cstr/reports/cs/tr/79/773/CS-TR-79-773.pdf>`_.\n",
      "\n",
      "Read more in the :ref:`User Guide <gaussian_naive_bayes>`.\n",
      "\n",
      "Parameters\n",
      "----------\n",
      "priors : array-like of shape (n_classes,), default=None\n",
      "    Prior probabilities of the classes. If specified, the priors are not\n",
      "    adjusted according to the data.\n",
      "\n",
      "var_smoothing : float, default=1e-9\n",
      "    Portion of the largest variance of all features that is added to\n",
      "    variances for calculation stability.\n",
      "\n",
      "    .. versionadded:: 0.20\n",
      "\n",
      "Attributes\n",
      "----------\n",
      "class_count_ : ndarray of shape (n_classes,)\n",
      "    number of training samples observed in each class.\n",
      "\n",
      "class_prior_ : ndarray of shape (n_classes,)\n",
      "    probability of each class.\n",
      "\n",
      "classes_ : ndarray of shape (n_classes,)\n",
      "    class labels known to the classifier.\n",
      "\n",
      "epsilon_ : float\n",
      "    absolute additive value to variances.\n",
      "\n",
      "n_features_in_ : int\n",
      "    Number of features seen during :term:`fit`.\n",
      "\n",
      "    .. versionadded:: 0.24\n",
      "\n",
      "feature_names_in_ : ndarray of shape (`n_features_in_`,)\n",
      "    Names of features seen during :term:`fit`. Defined only when `X`\n",
      "    has feature names that are all strings.\n",
      "\n",
      "    .. versionadded:: 1.0\n",
      "\n",
      "var_ : ndarray of shape (n_classes, n_features)\n",
      "    Variance of each feature per class.\n",
      "\n",
      "    .. versionadded:: 1.0\n",
      "\n",
      "theta_ : ndarray of shape (n_classes, n_features)\n",
      "    mean of each feature per class.\n",
      "\n",
      "See Also\n",
      "--------\n",
      "BernoulliNB : Naive Bayes classifier for multivariate Bernoulli models.\n",
      "CategoricalNB : Naive Bayes classifier for categorical features.\n",
      "ComplementNB : Complement Naive Bayes classifier.\n",
      "MultinomialNB : Naive Bayes classifier for multinomial models.\n",
      "\n",
      "Examples\n",
      "--------\n",
      ">>> import numpy as np\n",
      ">>> X = np.array([[-1, -1], [-2, -1], [-3, -2], [1, 1], [2, 1], [3, 2]])\n",
      ">>> Y = np.array([1, 1, 1, 2, 2, 2])\n",
      ">>> from sklearn.naive_bayes import GaussianNB\n",
      ">>> clf = GaussianNB()\n",
      ">>> clf.fit(X, Y)\n",
      "GaussianNB()\n",
      ">>> print(clf.predict([[-0.8, -1]]))\n",
      "[1]\n",
      ">>> clf_pf = GaussianNB()\n",
      ">>> clf_pf.partial_fit(X, Y, np.unique(Y))\n",
      "GaussianNB()\n",
      ">>> print(clf_pf.predict([[-0.8, -1]]))\n",
      "[1]\n",
      "\u001b[31mFile:\u001b[39m           ~/.local/lib/python3.12/site-packages/sklearn/naive_bayes.py\n",
      "\u001b[31mType:\u001b[39m           ABCMeta\n",
      "\u001b[31mSubclasses:\u001b[39m     "
     ]
    }
   ],
   "source": [
    "GaussianNB?"
   ]
  },
  {
   "cell_type": "markdown",
   "metadata": {},
   "source": [
    "### Just Example"
   ]
  },
  {
   "cell_type": "code",
   "execution_count": 6,
   "metadata": {},
   "outputs": [],
   "source": [
    "import pandas as pd\n",
    "df = pd.read_excel('data/肿瘤数据.xlsx')"
   ]
  }
 ],
 "metadata": {
  "kernelspec": {
   "display_name": "data-analysis",
   "language": "python",
   "name": "python3"
  },
  "language_info": {
   "codemirror_mode": {
    "name": "ipython",
    "version": 3
   },
   "file_extension": ".py",
   "mimetype": "text/x-python",
   "name": "python",
   "nbconvert_exporter": "python",
   "pygments_lexer": "ipython3",
   "version": "3.12.9"
  }
 },
 "nbformat": 4,
 "nbformat_minor": 2
}
